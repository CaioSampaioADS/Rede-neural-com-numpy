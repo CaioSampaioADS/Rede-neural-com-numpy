{
  "nbformat": 4,
  "nbformat_minor": 0,
  "metadata": {
    "colab": {
      "name": "rede neural com numpy.ipynb",
      "provenance": [],
      "collapsed_sections": []
    },
    "kernelspec": {
      "name": "python3",
      "display_name": "Python 3"
    }
  },
  "cells": [
    {
      "cell_type": "code",
      "metadata": {
        "id": "-MMFTHFJ__yM",
        "colab_type": "code",
        "colab": {}
      },
      "source": [
        "import tensorflow as tf\n",
        "import numpy as np\n",
        "from scipy.special import expit\n",
        "import random"
      ],
      "execution_count": null,
      "outputs": []
    },
    {
      "cell_type": "code",
      "metadata": {
        "id": "YWp5nTy4AE_H",
        "colab_type": "code",
        "colab": {
          "base_uri": "https://localhost:8080/",
          "height": 34
        },
        "outputId": "92dd2dee-ada8-47fd-98e8-897930e97ed8"
      },
      "source": [
        "tf.__version__\n",
        "random.randint(0, 5)"
      ],
      "execution_count": null,
      "outputs": [
        {
          "output_type": "execute_result",
          "data": {
            "text/plain": [
              "0"
            ]
          },
          "metadata": {
            "tags": []
          },
          "execution_count": 628
        }
      ]
    },
    {
      "cell_type": "code",
      "metadata": {
        "id": "3nNbMIvP4xkh",
        "colab_type": "code",
        "colab": {}
      },
      "source": [
        "pesos = [[]]\n",
        "qntNeuronios, qntCamadas, qntNeuroniosCamadaSaida = (2, 3, 1)\n",
        "#define as entradas e transforma em matriz\n",
        "entradas = np.array([1, 2, 3]).reshape(-1, 1)\n",
        "#adiciona a camada de entrada\n",
        "pesos[0] = np.random.rand(qntNeuronios, len(entradas))\n"
      ],
      "execution_count": null,
      "outputs": []
    },
    {
      "cell_type": "code",
      "metadata": {
        "id": "1gUKHfeQ_tXP",
        "colab_type": "code",
        "colab": {}
      },
      "source": [
        "#adiciona os pesos da camada oculta\n",
        "for i in range(qntCamadas-1):\n",
        "  pesos.append(np.random.rand(qntNeuronios, qntNeuronios))"
      ],
      "execution_count": null,
      "outputs": []
    },
    {
      "cell_type": "code",
      "metadata": {
        "id": "SvjdGacZANWQ",
        "colab_type": "code",
        "colab": {
          "base_uri": "https://localhost:8080/",
          "height": 134
        },
        "outputId": "6e264011-4dce-448e-d11a-fb62ba41f48b"
      },
      "source": [
        "pesos"
      ],
      "execution_count": null,
      "outputs": [
        {
          "output_type": "execute_result",
          "data": {
            "text/plain": [
              "[array([[0.23923299, 0.34401709, 0.98664399],\n",
              "        [0.40891383, 0.41900176, 0.50671528]]),\n",
              " array([[0.11290991, 0.62574922],\n",
              "        [0.5829799 , 0.18208165]]),\n",
              " array([[0.02078588, 0.34781001],\n",
              "        [0.3527184 , 0.82655592]]),\n",
              " array([[0.39166063, 0.92459288]])]"
            ]
          },
          "metadata": {
            "tags": []
          },
          "execution_count": 846
        }
      ]
    },
    {
      "cell_type": "code",
      "metadata": {
        "id": "ghZFUsWXB0z_",
        "colab_type": "code",
        "colab": {}
      },
      "source": [
        "pesos.append(np.random.rand(qntNeuroniosCamadaSaida, qntNeuronios))"
      ],
      "execution_count": null,
      "outputs": []
    },
    {
      "cell_type": "code",
      "metadata": {
        "id": "7LtBybO_C-YZ",
        "colab_type": "code",
        "colab": {
          "base_uri": "https://localhost:8080/",
          "height": 151
        },
        "outputId": "9f57aba3-3ea0-4c04-a9d0-36c6ad064eeb"
      },
      "source": [
        "pesos"
      ],
      "execution_count": null,
      "outputs": [
        {
          "output_type": "execute_result",
          "data": {
            "text/plain": [
              "[array([[0.23923299, 0.34401709, 0.98664399],\n",
              "        [0.40891383, 0.41900176, 0.50671528]]),\n",
              " array([[0.11290991, 0.62574922],\n",
              "        [0.5829799 , 0.18208165]]),\n",
              " array([[0.02078588, 0.34781001],\n",
              "        [0.3527184 , 0.82655592]]),\n",
              " array([[0.39166063, 0.92459288]]),\n",
              " array([[0.6146098 , 0.73136585]])]"
            ]
          },
          "metadata": {
            "tags": []
          },
          "execution_count": 848
        }
      ]
    },
    {
      "cell_type": "code",
      "metadata": {
        "id": "mTnSKBssDCVh",
        "colab_type": "code",
        "colab": {
          "base_uri": "https://localhost:8080/",
          "height": 34
        },
        "outputId": "621d0177-2115-4a11-da46-2e3927cf4b6b"
      },
      "source": [
        "qntNeuroniosCamadaSaida"
      ],
      "execution_count": null,
      "outputs": [
        {
          "output_type": "execute_result",
          "data": {
            "text/plain": [
              "1"
            ]
          },
          "metadata": {
            "tags": []
          },
          "execution_count": 53
        }
      ]
    },
    {
      "cell_type": "code",
      "metadata": {
        "id": "JFfk7fx_DlMo",
        "colab_type": "code",
        "colab": {}
      },
      "source": [
        "def feedForward():\n",
        "  listaSaidasEntradas = []\n",
        "  aux = entradas\n",
        "  listaSaidasEntradas.append(aux)\n",
        "  for i in range(len(pesos)):\n",
        "    aux = np.dot(pesos[i], aux)\n",
        "    aux = expit(aux)\n",
        "    listaSaidasEntradas.append(aux)\n",
        "  return aux, listaSaidasEntradas"
      ],
      "execution_count": null,
      "outputs": []
    },
    {
      "cell_type": "code",
      "metadata": {
        "id": "FDdFolbiDr2w",
        "colab_type": "code",
        "colab": {}
      },
      "source": [
        "resultado, listaSaidasEntradas = feedForward()"
      ],
      "execution_count": null,
      "outputs": []
    },
    {
      "cell_type": "code",
      "metadata": {
        "id": "DwltRMCaLkJg",
        "colab_type": "code",
        "colab": {
          "base_uri": "https://localhost:8080/",
          "height": 118
        },
        "outputId": "eacfaf4c-b007-46e5-8bc7-a99d6a6e53c5"
      },
      "source": [
        "listaSaidasEntradas"
      ],
      "execution_count": null,
      "outputs": [
        {
          "output_type": "execute_result",
          "data": {
            "text/plain": [
              "[array([[1],\n",
              "        [2],\n",
              "        [3]]), array([[0.99308957],\n",
              "        [0.98618669]]), array([[0.86543415],\n",
              "        [0.78961478]]), array([[0.76580823],\n",
              "        [0.78140581]]), array([[0.7661503]])]"
            ]
          },
          "metadata": {
            "tags": []
          },
          "execution_count": 56
        }
      ]
    },
    {
      "cell_type": "code",
      "metadata": {
        "id": "TG72CgOfVvYX",
        "colab_type": "code",
        "colab": {
          "base_uri": "https://localhost:8080/",
          "height": 34
        },
        "outputId": "27982753-57df-46a7-cd10-19c571746882"
      },
      "source": [
        "resultado"
      ],
      "execution_count": null,
      "outputs": [
        {
          "output_type": "execute_result",
          "data": {
            "text/plain": [
              "array([[0.7661503]])"
            ]
          },
          "metadata": {
            "tags": []
          },
          "execution_count": 57
        }
      ]
    },
    {
      "cell_type": "code",
      "metadata": {
        "id": "-_lZxquyLuh3",
        "colab_type": "code",
        "colab": {}
      },
      "source": [
        "class redeNeural:\n",
        "  def __init__(self, qntNeuronios,qntCamadas,qntNeuroniosCamadaSaida, entradas, resultadoEsperado):\n",
        "    self.qntNeuronios, self.qntCamadas, self.qntNeuroniosCamadaSaida, self.resultadoEsperado = (qntNeuronios, qntCamadas, qntNeuroniosCamadaSaida, resultadoEsperado)\n",
        "    self.entradas = np.array(entradas)\n",
        "    self.pesos = [[]]\n",
        "    self.pesos[0] = np.random.randn(qntNeuronios, len(entradas[0]))\n",
        "    for i in range(self.qntCamadas-1):\n",
        "      self.pesos.append(np.random.randn(self.qntNeuronios, self.qntNeuronios))\n",
        "    self.pesos.append(np.random.randn(qntNeuroniosCamadaSaida, qntNeuronios))\n",
        "\n",
        "  def feedForward(self, entrada):\n",
        "    self.listaSaidasEntradas = []\n",
        "    self.listaSaidasEntradas.clear()\n",
        "    aux = np.array(entrada)\n",
        "    self.listaSaidasEntradas.append(aux)\n",
        "    for i in range(len(self.pesos)):\n",
        "      aux = np.dot(self.pesos[i], aux)\n",
        "      aux = step(aux)\n",
        "      self.listaSaidasEntradas.append(aux)\n",
        "    return aux\n",
        "\n",
        "  def reajustePesos(self, alpha, epocas):\n",
        "    for epoca in range(epocas):\n",
        "      #percorre as entradas\n",
        "      for treino in range(len(self.entradas)):\n",
        "        #treino = random.randint(0, len(self.entradas)-1)\n",
        "        resultadoObtido = self.feedForward(self.entradas[treino])\n",
        "        erro = self.resultadoEsperado[treino] - resultadoObtido[0]\n",
        "        print(erro)\n",
        "        #print(f'lista completa {self.listaSaidasEntradas}')\n",
        "        \n",
        "        #percorre a camada\n",
        "        for i in range(len(self.pesos)-1, -1, -1):\n",
        "          #percorre linha\n",
        "          for j in range(len(self.pesos[i])):\n",
        "            #percorre coluna\n",
        "            for h in range(len(self.pesos[i][j])):\n",
        "              #print(rede.listaSaidasEntradas[i][h])\n",
        "              #print(f'peso = {rede.pesos[i][j][h]} entrada = {rede.listaSaidasEntradas[i][h][0]}')\n",
        "              #print(f'pesos {self.pesos[i][j][h]}')\n",
        "              #print(f'lista = {self.listaSaidasEntradas[i][h]}')\n",
        "              self.pesos[i][j][h] = self.pesos[i][j][h] + (alpha * self.listaSaidasEntradas[i][h] * erro)\n",
        "              #print(f'pesos corrigido {self.pesos[i][j][h]}')\n",
        "\n",
        "  def sigmoid(self, x):\n",
        "    return 1 / (1 + np.exp(-x))\n",
        "\n",
        "  def step(self, x):\n",
        "    for i in range(len(x)):\n",
        "      if x[i] <= 0:\n",
        "        x[i] = 0\n",
        "      else:\n",
        "        x[i] = 1\n",
        "    return x  \n",
        "    "
      ],
      "execution_count": null,
      "outputs": []
    },
    {
      "cell_type": "code",
      "metadata": {
        "id": "oMatrS43TprR",
        "colab_type": "code",
        "colab": {}
      },
      "source": [
        "treinamentos = [[1,0,1],[0,0,1],[0,1,1], [1,1,1]]\n",
        "resultados = [1,0,1,0]\n",
        "\n",
        "rede = redeNeural(4, 4, 1, treinamentos, resultados)"
      ],
      "execution_count": null,
      "outputs": []
    },
    {
      "cell_type": "code",
      "metadata": {
        "id": "BuKXvT9ClPnX",
        "colab_type": "code",
        "colab": {
          "base_uri": "https://localhost:8080/",
          "height": 302
        },
        "outputId": "87ef91dc-c6b5-439a-c189-6b021d4940cb"
      },
      "source": [
        "rede.pesos"
      ],
      "execution_count": null,
      "outputs": [
        {
          "output_type": "execute_result",
          "data": {
            "text/plain": [
              "[array([[-0.00236559,  1.60289624, -0.81827251],\n",
              "        [ 0.65844092, -0.1525047 ,  0.93137141],\n",
              "        [-0.95276477, -0.846857  , -0.60752196],\n",
              "        [ 0.87546679,  0.80024292, -0.2854539 ]]),\n",
              " array([[-1.01942777, -2.42007569, -0.80268868,  0.08150477],\n",
              "        [-0.3425873 , -0.37245766, -1.04883272,  0.44749702],\n",
              "        [-0.33926319,  1.62079049,  0.30712848, -0.93447555],\n",
              "        [ 0.43877883,  0.65298396, -0.12369282, -0.57422081]]),\n",
              " array([[-2.51900076,  0.30943969,  0.05169677, -0.22065257],\n",
              "        [ 0.28831618,  0.14811532,  0.86481141, -0.24979724],\n",
              "        [ 1.04746943,  0.00350371, -0.30595747, -1.67365395],\n",
              "        [ 0.56571622,  1.05925906,  0.81000954,  0.487278  ]]),\n",
              " array([[-0.10379768,  0.53168133,  0.23007815,  0.14784213],\n",
              "        [ 1.7192227 , -2.19485641, -0.49472623, -0.21556404],\n",
              "        [ 1.03007111, -0.11159078, -0.63096758, -0.69798618],\n",
              "        [ 0.79748734,  1.87208059, -0.45785127,  0.30083672]]),\n",
              " array([[ 2.75216088, -1.36370052,  1.04362138,  0.30189252]])]"
            ]
          },
          "metadata": {
            "tags": []
          },
          "execution_count": 1104
        }
      ]
    },
    {
      "cell_type": "code",
      "metadata": {
        "id": "PMDwwbvxpaBg",
        "colab_type": "code",
        "colab": {
          "base_uri": "https://localhost:8080/",
          "height": 34
        },
        "outputId": "790a5874-6073-4758-a29d-a8e2a43b23e9"
      },
      "source": [
        "rede.feedForward([1,0,1])"
      ],
      "execution_count": null,
      "outputs": [
        {
          "output_type": "execute_result",
          "data": {
            "text/plain": [
              "array([0.])"
            ]
          },
          "metadata": {
            "tags": []
          },
          "execution_count": 1106
        }
      ]
    },
    {
      "cell_type": "code",
      "metadata": {
        "id": "XHeDSkCfCix0",
        "colab_type": "code",
        "colab": {}
      },
      "source": [
        ""
      ],
      "execution_count": null,
      "outputs": []
    }
  ]
}